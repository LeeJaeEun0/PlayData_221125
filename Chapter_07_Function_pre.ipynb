{
 "cells": [
  {
   "cell_type": "markdown",
   "id": "3855620a",
   "metadata": {},
   "source": [
    "## 계산기"
   ]
  },
  {
   "cell_type": "code",
   "execution_count": 7,
   "id": "b046678f",
   "metadata": {},
   "outputs": [
    {
     "name": "stdout",
     "output_type": "stream",
     "text": [
      "대신 계산 해드립니다.\n",
      "+ - * / %(나머지) 연산 중 원하는 기호를 선택하세요-\n",
      "첫번째 숫자를 입력하세요: 3\n",
      "두번째 숫자를 입력하세요: 4\n",
      "3 - 4 = -1\n",
      "계산기를 다시 시도 하시겠습니까?(y/n)y\n",
      "+ - * / %(나머지) 연산 중 원하는 기호를 선택하세요*\n",
      "첫번째 숫자를 입력하세요: 2\n",
      "두번째 숫자를 입력하세요: 3\n",
      "2 * 3 = 6\n",
      "계산기를 다시 시도 하시겠습니까?(y/n)n\n"
     ]
    }
   ],
   "source": [
    "print(\"대신 계산 해드립니다.\")\n",
    "while True :\n",
    "    oper = input(\"+ - * / %(나머지) 연산 중 원하는 기호를 선택하세요\")\n",
    "    # 정수와 실수를 구분할 것 인가? # 숫자가 아니면 int()로 변환시 오류 발생\n",
    "    x = input(\"첫번째 숫자를 입력하세요: \")\n",
    "    x = int(x)\n",
    "    y = input(\"두번째 숫자를 입력하세요: \")\n",
    "    y = int(y)\n",
    "    # 연산기호 구분하기\n",
    "    z=0\n",
    "    if oper == '+':\n",
    "        z = x + y\n",
    "    elif oper == '-':\n",
    "        z = x - y\n",
    "    elif oper == '*':\n",
    "        z = x * y\n",
    "    elif oper == '/':\n",
    "        z = x / y\n",
    "    elif oper == '%':\n",
    "        z = x % y\n",
    "    else:\n",
    "        print(\"기호가 틀렸습니다. 다시 입력해주세요.\")\n",
    "        continue\n",
    "    # 처음으로 or 끝\n",
    "    print(f\"{x} {oper} {y} = {z}\")\n",
    "    while True:\n",
    "        cho = input(\"계산기를 다시 시도 하시겠습니까?(y/n)\")\n",
    "        if cho ==\"y\" or cho ==\"Y\" or cho ==\"n\" or cho == \"N\" :\n",
    "            break\n",
    "        else:\n",
    "            print(\"입력 오류!!!\")\n",
    "            continue\n",
    "    if cho ==\"y\" or cho ==\"Y\":\n",
    "            continue\n",
    "    elif cho ==\"n\" or cho == \"N\" :\n",
    "            break"
   ]
  },
  {
   "cell_type": "markdown",
   "id": "5fbcea26",
   "metadata": {},
   "source": []
  }
 ],
 "metadata": {
  "kernelspec": {
   "display_name": "Python 3 (ipykernel)",
   "language": "python",
   "name": "python3"
  },
  "language_info": {
   "codemirror_mode": {
    "name": "ipython",
    "version": 3
   },
   "file_extension": ".py",
   "mimetype": "text/x-python",
   "name": "python",
   "nbconvert_exporter": "python",
   "pygments_lexer": "ipython3",
   "version": "3.9.13"
  }
 },
 "nbformat": 4,
 "nbformat_minor": 5
}
