{
 "cells": [
  {
   "cell_type": "markdown",
   "id": "c9c9e28f",
   "metadata": {},
   "source": [
    "# 7장 함수"
   ]
  },
  {
   "cell_type": "markdown",
   "id": "8c3592f4",
   "metadata": {},
   "source": [
    "## 7.1 함수 정의와 호출"
   ]
  },
  {
   "cell_type": "markdown",
   "id": "0546ea02",
   "metadata": {},
   "source": [
    "## 함수의 기본구조\n",
    "def 함수명([인자1,인자2,...인자n]) : <br>\n",
    "        \n",
    "        <코드블럭>\n",
    "        [return <반환 값>]"
   ]
  },
  {
   "cell_type": "markdown",
   "id": "54a061f3",
   "metadata": {},
   "source": [
    "## 인자도 반환 값도 없는 함수"
   ]
  },
  {
   "cell_type": "code",
   "execution_count": 1,
   "id": "c0850d2a",
   "metadata": {},
   "outputs": [],
   "source": [
    "def my_func(): #함수선언\n",
    "    print(\"My first fucntion\")\n",
    "    print(\"This is a function\")"
   ]
  },
  {
   "cell_type": "code",
   "execution_count": 2,
   "id": "525996dc",
   "metadata": {},
   "outputs": [
    {
     "name": "stdout",
     "output_type": "stream",
     "text": [
      "My first fucntion\n",
      "This is a function\n"
     ]
    }
   ],
   "source": [
    "my_func() # 함수 호출"
   ]
  },
  {
   "cell_type": "code",
   "execution_count": 3,
   "id": "78a2a673",
   "metadata": {},
   "outputs": [],
   "source": [
    "def my_func2():\n",
    "    print(\"hello! function!\")"
   ]
  },
  {
   "cell_type": "code",
   "execution_count": 4,
   "id": "8fcede22",
   "metadata": {},
   "outputs": [
    {
     "name": "stdout",
     "output_type": "stream",
     "text": [
      "hello! function!\n"
     ]
    }
   ],
   "source": [
    "my_func2()"
   ]
  },
  {
   "cell_type": "markdown",
   "id": "188026ff",
   "metadata": {},
   "source": [
    "### 인자는 있으나 반환 값이 없는 함수"
   ]
  },
  {
   "cell_type": "code",
   "execution_count": 5,
   "id": "c70372a9",
   "metadata": {},
   "outputs": [],
   "source": [
    "def my_friend(friendName) : #인자값을 반드시 입력해야하는 함수!\n",
    "    print(\"{}는 나의 친구입니다.\".format(friendName))"
   ]
  },
  {
   "cell_type": "code",
   "execution_count": 6,
   "id": "c3e756ca",
   "metadata": {},
   "outputs": [
    {
     "name": "stdout",
     "output_type": "stream",
     "text": [
      "철수는 나의 친구입니다.\n",
      "영미는 나의 친구입니다.\n"
     ]
    }
   ],
   "source": [
    "my_friend(\"철수\")\n",
    "my_friend(\"영미\")"
   ]
  },
  {
   "cell_type": "code",
   "execution_count": 16,
   "id": "e70370bc",
   "metadata": {},
   "outputs": [],
   "source": [
    "def my_friend(friendName) : #인자값을 반드시 입력해야하는 함수!\n",
    "    print(f\"{friendName}는 나의 친구입니다.\") "
   ]
  },
  {
   "cell_type": "code",
   "execution_count": 17,
   "id": "79cb6ebf",
   "metadata": {},
   "outputs": [
    {
     "name": "stdout",
     "output_type": "stream",
     "text": [
      "철수는 나의 친구입니다.\n",
      "영미는 나의 친구입니다.\n"
     ]
    }
   ],
   "source": [
    "my_friend(\"철수\") #함수에 넣을 인자값 작성\n",
    "my_friend(\"영미\") "
   ]
  },
  {
   "cell_type": "code",
   "execution_count": 14,
   "id": "b5f55106",
   "metadata": {},
   "outputs": [],
   "source": [
    "def they_friends(friendName1, friendName2) :\n",
    "    print(\"{0}과 {1}는(은) 친구입니다.\".format(friendName1, friendName2))"
   ]
  },
  {
   "cell_type": "code",
   "execution_count": 15,
   "id": "c81b105b",
   "metadata": {},
   "outputs": [
    {
     "name": "stdout",
     "output_type": "stream",
     "text": [
      "철수과 영희는(은) 친구입니다.\n"
     ]
    }
   ],
   "source": [
    "they_friends(\"철수\",\"영희\") "
   ]
  },
  {
   "cell_type": "code",
   "execution_count": 19,
   "id": "29015378",
   "metadata": {},
   "outputs": [],
   "source": [
    "def my_student_info(name, school_ID, phoneNumber) : # 인자값 3개\n",
    "    print(\"------------------------------\")\n",
    "    print(\"- 학생이름: \",name)\n",
    "    print(\"- 학급번호: \",school_ID)\n",
    "    print(\"- 전화번호: \",phoneNumber)"
   ]
  },
  {
   "cell_type": "code",
   "execution_count": 21,
   "id": "c6033e24",
   "metadata": {},
   "outputs": [],
   "source": [
    "def end_line() :\n",
    "    print(\"------------------------------\")"
   ]
  },
  {
   "cell_type": "code",
   "execution_count": 24,
   "id": "1f4fe7a6",
   "metadata": {},
   "outputs": [
    {
     "name": "stdout",
     "output_type": "stream",
     "text": [
      "------------------------------\n",
      "- 학생이름:  현아\n",
      "- 학급번호:  01\n",
      "- 전화번호:  010-1234-1234\n",
      "------------------------------\n",
      "- 학생이름:  진수\n",
      "- 학급번호:  02\n",
      "- 전화번호:  010-2345-2345\n",
      "------------------------------\n",
      "- 학생이름:  토리\n",
      "- 학급번호:  03\n",
      "- 전화번호:  010-3456-3456\n",
      "------------------------------\n"
     ]
    }
   ],
   "source": [
    "my_student_info(\"현아\",\"01\",\"010-1234-1234\")\n",
    "my_student_info(\"진수\",\"02\",\"010-2345-2345\")\n",
    "my_student_info(\"토리\",\"03\",\"010-3456-3456\")\n",
    "end_line()"
   ]
  },
  {
   "cell_type": "markdown",
   "id": "2aee9a84",
   "metadata": {},
   "source": [
    "함수를 수정하면 모든 코드에 적용"
   ]
  },
  {
   "cell_type": "code",
   "execution_count": 26,
   "id": "3c5e8abb",
   "metadata": {},
   "outputs": [],
   "source": [
    "def my_student_info(name, school_ID, phoneNumber) : # 인자값 3개 # 함수를 갱신한다\n",
    "    print(\"******************************\")\n",
    "    print(\"* 학생이름: \",name)\n",
    "    print(\"* 학급번호: \",school_ID)\n",
    "    print(\"* 전화번호: \",phoneNumber)"
   ]
  },
  {
   "cell_type": "code",
   "execution_count": 27,
   "id": "45844a4a",
   "metadata": {},
   "outputs": [
    {
     "name": "stdout",
     "output_type": "stream",
     "text": [
      "******************************\n",
      "* 학생이름:  현아\n",
      "* 학급번호:  01\n",
      "* 전화번호:  010-1234-1234\n",
      "******************************\n",
      "* 학생이름:  진수\n",
      "* 학급번호:  02\n",
      "* 전화번호:  010-2345-2345\n",
      "******************************\n",
      "* 학생이름:  토리\n",
      "* 학급번호:  03\n",
      "* 전화번호:  010-3456-3456\n"
     ]
    }
   ],
   "source": [
    "my_student_info(\"현아\",\"01\",\"010-1234-1234\")\n",
    "my_student_info(\"진수\",\"02\",\"010-2345-2345\")\n",
    "my_student_info(\"토리\",\"03\",\"010-3456-3456\")"
   ]
  },
  {
   "cell_type": "markdown",
   "id": "8f28999a",
   "metadata": {},
   "source": [
    "## 인자도 있고 반환 값도 있다"
   ]
  },
  {
   "cell_type": "code",
   "execution_count": 30,
   "id": "d35c646c",
   "metadata": {},
   "outputs": [],
   "source": [
    "def my_calc(x,y):\n",
    "    z = x*y\n",
    "    return z"
   ]
  },
  {
   "cell_type": "code",
   "execution_count": 29,
   "id": "aec85bcd",
   "metadata": {},
   "outputs": [
    {
     "data": {
      "text/plain": [
       "7"
      ]
     },
     "execution_count": 29,
     "metadata": {},
     "output_type": "execute_result"
    }
   ],
   "source": [
    "my_calc(3,4)"
   ]
  },
  {
   "cell_type": "code",
   "execution_count": 40,
   "id": "6b07b149",
   "metadata": {},
   "outputs": [],
   "source": [
    "def my_calc3(x,y):\n",
    "    z = x*y\n",
    "    return 12 # 12를 돌려주는 return"
   ]
  },
  {
   "cell_type": "code",
   "execution_count": 41,
   "id": "9ec4e5ff",
   "metadata": {},
   "outputs": [
    {
     "data": {
      "text/plain": [
       "12"
      ]
     },
     "execution_count": 41,
     "metadata": {},
     "output_type": "execute_result"
    }
   ],
   "source": [
    "my_calc3(3,4)"
   ]
  },
  {
   "cell_type": "code",
   "execution_count": 38,
   "id": "248e4757",
   "metadata": {},
   "outputs": [],
   "source": [
    "def my_calc2(x,y):\n",
    "    z = x*y\n",
    "    t = x+y\n",
    "    return z,t"
   ]
  },
  {
   "cell_type": "code",
   "execution_count": 39,
   "id": "1263a7d7",
   "metadata": {},
   "outputs": [
    {
     "data": {
      "text/plain": [
       "(12, 7)"
      ]
     },
     "execution_count": 39,
     "metadata": {},
     "output_type": "execute_result"
    }
   ],
   "source": [
    "my_calc2(3,4)"
   ]
  },
  {
   "cell_type": "markdown",
   "id": "08efd96b",
   "metadata": {},
   "source": [
    "리스트를 인자로 갖는 함수"
   ]
  },
  {
   "cell_type": "code",
   "execution_count": 42,
   "id": "94597719",
   "metadata": {},
   "outputs": [],
   "source": [
    "def my_student_info_list(student_info):\n",
    "    print(\"*******************************\")\n",
    "    print(\"* 학생이름: \",student_info[0])\n",
    "    print(\"* 학급번호: \",student_info[1])\n",
    "    print(\"* 전화번호: \",student_info[2])\n",
    "    print(\"*******************************\")"
   ]
  },
  {
   "cell_type": "markdown",
   "id": "ff2ed68a",
   "metadata": {},
   "source": [
    "인자를 리스트로 입력해서 호출한다"
   ]
  },
  {
   "cell_type": "code",
   "execution_count": 44,
   "id": "d2019acd",
   "metadata": {},
   "outputs": [
    {
     "name": "stdout",
     "output_type": "stream",
     "text": [
      "*******************************\n",
      "* 학생이름:  현아\n",
      "* 학급번호:  01\n",
      "* 전화번호:  010-1234-1234\n",
      "*******************************\n"
     ]
    }
   ],
   "source": [
    "student1_info=['현아','01','010-1234-1234'] # 리스트 선언\n",
    "my_student_info_list(student1_info) # 변수명과 함수명을 구분하자 "
   ]
  },
  {
   "cell_type": "code",
   "execution_count": 45,
   "id": "b7041e1c",
   "metadata": {},
   "outputs": [
    {
     "name": "stdout",
     "output_type": "stream",
     "text": [
      "*******************************\n",
      "* 학생이름:  진수\n",
      "* 학급번호:  02\n",
      "* 전화번호:  010-3456-3456\n",
      "*******************************\n"
     ]
    }
   ],
   "source": [
    "my_student_info_list(['진수','02','010-3456-3456']) # 직접적으로 값을 넣을 수도 있다! - []로 리스트를 인정해주는 건가?!"
   ]
  },
  {
   "cell_type": "markdown",
   "id": "8f34b60f",
   "metadata": {},
   "source": [
    "## 7.2 변수의 유효 범위"
   ]
  },
  {
   "cell_type": "markdown",
   "id": "c9bdf7a7",
   "metadata": {},
   "source": [
    "전역 변수와 지역 변수의 차이<br>\n",
    "함수 안에서 정의한 변수는 함수 안에서만 사용할 수 있다"
   ]
  },
  {
   "cell_type": "code",
   "execution_count": 53,
   "id": "dc509ed5",
   "metadata": {},
   "outputs": [],
   "source": [
    "a = 5 # 전역변수\n",
    "\n",
    "def func1():\n",
    "    a = 1 # 지역변수, func1()에서만 사용가능\n",
    "    print(\"[func1] 지역변수 a = \",a)\n",
    "\n",
    "def func2():\n",
    "    a = 2 # 지역변수, func2()에서만 사용가능\n",
    "    print(\"[func2] 지역변수 a = \",a)    \n",
    "\n",
    "def func3():\n",
    "    print(\"[func3] 전역변수 a = \",a) \n",
    "\n",
    "def func4():\n",
    "    global a # 함수 내에서 전역 변수 변경을 위해 선언\n",
    "    a = 4 # 전역변수, func2()에서만 사용가능\n",
    "    print(\"[func4] 전역변수 a = \",a)    "
   ]
  },
  {
   "cell_type": "code",
   "execution_count": 54,
   "id": "89b543f0",
   "metadata": {},
   "outputs": [
    {
     "name": "stdout",
     "output_type": "stream",
     "text": [
      "[func1] 지역변수 a =  1\n",
      "[func2] 지역변수 a =  2\n",
      "전역변수 a =  5\n"
     ]
    }
   ],
   "source": [
    "func1() #함수 func1() 호출\n",
    "func2() #함수 func2() 호출\n",
    "print(\"전역변수 a = \",a) # 전역 변수 호출ㄴ"
   ]
  },
  {
   "cell_type": "markdown",
   "id": "e5c55430",
   "metadata": {},
   "source": [
    "전역변수를 변경하고 싶을때는 선언하여 사용한다."
   ]
  },
  {
   "cell_type": "code",
   "execution_count": 55,
   "id": "397c0035",
   "metadata": {},
   "outputs": [
    {
     "name": "stdout",
     "output_type": "stream",
     "text": [
      "[func3] 전역변수 a =  5\n",
      "[func4] 전역변수 a =  4\n",
      "[func3] 전역변수 a =  4\n"
     ]
    }
   ],
   "source": [
    "func3()\n",
    "func4()\n",
    "func3()"
   ]
  },
  {
   "cell_type": "code",
   "execution_count": 144,
   "id": "d596cd8d",
   "metadata": {},
   "outputs": [
    {
     "name": "stdout",
     "output_type": "stream",
     "text": [
      "[func1] 지역변수 money1 =  경기지역 화폐\n",
      "[func2] 지역변수 money1 =  서울지역 화폐\n",
      "전역변수 money1 =  A 페이\n",
      "[func3] 전역변수 money1 =  A 페이\n",
      "[func4] 전역변수 money1 =  B 페이\n",
      "[func3] 전역변수 money1 =  B 페이\n"
     ]
    }
   ],
   "source": [
    "# 이해하기 쉬운 예시 - 지역 화폐와 네이버 페이로 쓰기 \n",
    "money1 = \"A 페이\" # 전역변수\n",
    "\n",
    "def func11():\n",
    "    money1  = \"경기지역 화폐\" # 지역변수, func1()에서만 사용가능\n",
    "    print(\"[func1] 지역변수 money1 = \",money1)\n",
    "\n",
    "def func22():\n",
    "    money1  = \"서울지역 화폐\" # 지역변수, func2()에서만 사용가능\n",
    "    print(\"[func2] 지역변수 money1 = \",money1)   \n",
    "\n",
    "def func33():\n",
    "    print(\"[func3] 전역변수 money1 = \",money1) \n",
    "\n",
    "def func44():\n",
    "    global money1 # 함수 내에서 전역 변수 변경을 위해 선언\n",
    "    money1 = \"B 페이\" # 전역변수, func2()에서만 사용가능\n",
    "    print(\"[func4] 전역변수 money1 = \",money1)    \n",
    "\n",
    "func11() #함수 func1() 호출\n",
    "func22() #함수 func2() 호출\n",
    "print(\"전역변수 money1 = \",money1) # 전역 변수 호출ㄴ\n",
    "func33()\n",
    "func44()\n",
    "func33()"
   ]
  },
  {
   "cell_type": "markdown",
   "id": "7e091956",
   "metadata": {},
   "source": [
    "# 7.3 람다(lambda) 함수"
   ]
  },
  {
   "cell_type": "markdown",
   "id": "30df6a0f",
   "metadata": {},
   "source": [
    "한줄로 함수를 표현하는 람다함수의 기본 구조 <br>\n",
    "(lambda<인자>:<인자 활용 수행 코드>)(<인자>)"
   ]
  },
  {
   "cell_type": "code",
   "execution_count": 58,
   "id": "e71dbc3e",
   "metadata": {},
   "outputs": [
    {
     "data": {
      "text/plain": [
       "16"
      ]
     },
     "execution_count": 58,
     "metadata": {},
     "output_type": "execute_result"
    }
   ],
   "source": [
    "(lambda x : x**2) (4)"
   ]
  },
  {
   "cell_type": "code",
   "execution_count": 64,
   "id": "033f9922",
   "metadata": {},
   "outputs": [
    {
     "data": {
      "text/plain": [
       "0"
      ]
     },
     "execution_count": 64,
     "metadata": {},
     "output_type": "execute_result"
    }
   ],
   "source": [
    "(lambda y: y % 10) (100) # 나머지는 없음"
   ]
  },
  {
   "cell_type": "code",
   "execution_count": 63,
   "id": "5916cdc6",
   "metadata": {},
   "outputs": [
    {
     "ename": "TypeError",
     "evalue": "unsupported operand type(s) for +: 'int' and 'str'",
     "output_type": "error",
     "traceback": [
      "\u001b[1;31m---------------------------------------------------------------------------\u001b[0m",
      "\u001b[1;31mTypeError\u001b[0m                                 Traceback (most recent call last)",
      "\u001b[1;32m~\\AppData\\Local\\Temp\\ipykernel_13352\\2837528899.py\u001b[0m in \u001b[0;36m<module>\u001b[1;34m\u001b[0m\n\u001b[1;32m----> 1\u001b[1;33m \u001b[1;33m(\u001b[0m\u001b[1;32mlambda\u001b[0m \u001b[0mx\u001b[0m \u001b[1;33m:\u001b[0m \u001b[0mx\u001b[0m \u001b[1;33m+\u001b[0m \u001b[1;34m\"입니다\"\u001b[0m\u001b[1;33m)\u001b[0m \u001b[1;33m(\u001b[0m\u001b[1;36m4\u001b[0m\u001b[1;33m)\u001b[0m\u001b[1;33m\u001b[0m\u001b[1;33m\u001b[0m\u001b[0m\n\u001b[0m",
      "\u001b[1;32m~\\AppData\\Local\\Temp\\ipykernel_13352\\2837528899.py\u001b[0m in \u001b[0;36m<lambda>\u001b[1;34m(x)\u001b[0m\n\u001b[1;32m----> 1\u001b[1;33m \u001b[1;33m(\u001b[0m\u001b[1;32mlambda\u001b[0m \u001b[0mx\u001b[0m \u001b[1;33m:\u001b[0m \u001b[0mx\u001b[0m \u001b[1;33m+\u001b[0m \u001b[1;34m\"입니다\"\u001b[0m\u001b[1;33m)\u001b[0m \u001b[1;33m(\u001b[0m\u001b[1;36m4\u001b[0m\u001b[1;33m)\u001b[0m\u001b[1;33m\u001b[0m\u001b[1;33m\u001b[0m\u001b[0m\n\u001b[0m",
      "\u001b[1;31mTypeError\u001b[0m: unsupported operand type(s) for +: 'int' and 'str'"
     ]
    }
   ],
   "source": [
    "(lambda x : x + \"입니다\") (4) # 연산만 가능"
   ]
  },
  {
   "cell_type": "markdown",
   "id": "ba9fd6ed",
   "metadata": {},
   "source": [
    "람다 함수를 변수에 할당한 후에 인자를 호출해서 사용"
   ]
  },
  {
   "cell_type": "code",
   "execution_count": 61,
   "id": "ee79afee",
   "metadata": {},
   "outputs": [
    {
     "data": {
      "text/plain": [
       "4"
      ]
     },
     "execution_count": 61,
     "metadata": {},
     "output_type": "execute_result"
    }
   ],
   "source": [
    "mySquare = lambda x: x ** 2\n",
    "mySquare(2) "
   ]
  },
  {
   "cell_type": "code",
   "execution_count": 65,
   "id": "e3333538",
   "metadata": {},
   "outputs": [
    {
     "data": {
      "text/plain": [
       "25"
      ]
     },
     "execution_count": 65,
     "metadata": {},
     "output_type": "execute_result"
    }
   ],
   "source": [
    "mySquare(5)"
   ]
  },
  {
   "cell_type": "markdown",
   "id": "39718f88",
   "metadata": {},
   "source": [
    "여러개 인자를 받아 사용하는 것도 가능"
   ]
  },
  {
   "cell_type": "code",
   "execution_count": 66,
   "id": "0767e65b",
   "metadata": {},
   "outputs": [
    {
     "data": {
      "text/plain": [
       "12"
      ]
     },
     "execution_count": 66,
     "metadata": {},
     "output_type": "execute_result"
    }
   ],
   "source": [
    "mySimpleFunc = lambda x,y,z: 2*x +3*y +z\n",
    "mySimpleFunc(1,2,4)"
   ]
  },
  {
   "cell_type": "code",
   "execution_count": 67,
   "id": "c971e5d3",
   "metadata": {},
   "outputs": [
    {
     "name": "stdout",
     "output_type": "stream",
     "text": [
      "1 2 4\n"
     ]
    }
   ],
   "source": [
    "mySimpleFunc = lambda x,y,z: print(x,y,z) # print() 가능하네!!\n",
    "mySimpleFunc(1,2,4)"
   ]
  },
  {
   "cell_type": "markdown",
   "id": "60b7f6d6",
   "metadata": {},
   "source": [
    "## 7.4 유용한 내장 함수"
   ]
  },
  {
   "cell_type": "markdown",
   "id": "32f3c7df",
   "metadata": {},
   "source": [
    "## 형 변환 함수"
   ]
  },
  {
   "cell_type": "markdown",
   "id": "78cc61a2",
   "metadata": {},
   "source": [
    "### 정수형으로 변환"
   ]
  },
  {
   "cell_type": "markdown",
   "id": "d1a7a6df",
   "metadata": {},
   "source": [
    "소수점 이하는 버려짐"
   ]
  },
  {
   "cell_type": "code",
   "execution_count": 70,
   "id": "4a270d43",
   "metadata": {},
   "outputs": [
    {
     "data": {
      "text/plain": [
       "[0, 3, -1]"
      ]
     },
     "execution_count": 70,
     "metadata": {},
     "output_type": "execute_result"
    }
   ],
   "source": [
    "[int(0.123), int(3.5123456), int(-1.312367)]"
   ]
  },
  {
   "cell_type": "markdown",
   "id": "66d5621b",
   "metadata": {},
   "source": [
    "문자열을 정수형으로 변환"
   ]
  },
  {
   "cell_type": "code",
   "execution_count": 71,
   "id": "99bacc02",
   "metadata": {},
   "outputs": [
    {
     "data": {
      "text/plain": [
       "[1234, 5678, -9012]"
      ]
     },
     "execution_count": 71,
     "metadata": {},
     "output_type": "execute_result"
    }
   ],
   "source": [
    "[int('1234'),int('5678'),int('-9012')]"
   ]
  },
  {
   "cell_type": "markdown",
   "id": "e3fe819a",
   "metadata": {},
   "source": [
    "### 실수형으로 변환"
   ]
  },
  {
   "cell_type": "code",
   "execution_count": 72,
   "id": "587b8b01",
   "metadata": {},
   "outputs": [
    {
     "data": {
      "text/plain": [
       "[0.0, 123.0, -567.0]"
      ]
     },
     "execution_count": 72,
     "metadata": {},
     "output_type": "execute_result"
    }
   ],
   "source": [
    "[float(0), float(123), float(-567)]"
   ]
  },
  {
   "cell_type": "markdown",
   "id": "b7ef6f3e",
   "metadata": {},
   "source": [
    "문자열을 실수형으로 변환"
   ]
  },
  {
   "cell_type": "code",
   "execution_count": 74,
   "id": "7354ba1f",
   "metadata": {},
   "outputs": [
    {
     "data": {
      "text/plain": [
       "[10.0, 0.123, -567.89]"
      ]
     },
     "execution_count": 74,
     "metadata": {},
     "output_type": "execute_result"
    }
   ],
   "source": [
    "[float('10'), float('0.123'), float('-567.89')]"
   ]
  },
  {
   "cell_type": "markdown",
   "id": "4307a433",
   "metadata": {},
   "source": [
    "### 문자형으로 변환"
   ]
  },
  {
   "cell_type": "code",
   "execution_count": 75,
   "id": "f9228bde",
   "metadata": {},
   "outputs": [
    {
     "data": {
      "text/plain": [
       "['123', '456789', '-987']"
      ]
     },
     "execution_count": 75,
     "metadata": {},
     "output_type": "execute_result"
    }
   ],
   "source": [
    "[str(123), str(456789),str(-987)]"
   ]
  },
  {
   "cell_type": "code",
   "execution_count": 76,
   "id": "43fb5fa3",
   "metadata": {},
   "outputs": [
    {
     "data": {
      "text/plain": [
       "['0.123', '345.678', '-5.987']"
      ]
     },
     "execution_count": 76,
     "metadata": {},
     "output_type": "execute_result"
    }
   ],
   "source": [
    "[str(0.123), str(345.678), str(-5.987)]"
   ]
  },
  {
   "cell_type": "markdown",
   "id": "b5f873ed",
   "metadata": {},
   "source": [
    "### 리스트 튜플 세트형으로 변환"
   ]
  },
  {
   "cell_type": "code",
   "execution_count": 81,
   "id": "15c5c5eb",
   "metadata": {},
   "outputs": [],
   "source": [
    "list_data = ['abc',1,2 ,'def']\n",
    "tuple_data = ('abc',1,2 ,'def')\n",
    "set_data = {'abc',1,2 ,'def'}"
   ]
  },
  {
   "cell_type": "code",
   "execution_count": 82,
   "id": "7776add5",
   "metadata": {},
   "outputs": [
    {
     "data": {
      "text/plain": [
       "[list, tuple, set]"
      ]
     },
     "execution_count": 82,
     "metadata": {},
     "output_type": "execute_result"
    }
   ],
   "source": [
    "[type(list_data),type(tuple_data),type(set_data)]"
   ]
  },
  {
   "cell_type": "code",
   "execution_count": 92,
   "id": "1dc1386a",
   "metadata": {},
   "outputs": [
    {
     "name": "stdout",
     "output_type": "stream",
     "text": [
      "{1, 2, 3, 4, 5, 6, 7, 8, 9}\n",
      "{1, 2, 3, 4, 5, 7, 8, 9}\n",
      "{'a', 'e', 'c', 'd', 'b'}\n"
     ]
    }
   ],
   "source": [
    "set_data1 = {1,2,3,4,5,6,7,8,9} # set는 중복값을 허용하지 않는다.\n",
    "set_data2 = {2,3,5,7,1,4,8,9}\n",
    "set_data3 = {'a','c','b','e','d'}\n",
    "print(set_data1)\n",
    "print(set_data2)\n",
    "print(set_data3)"
   ]
  },
  {
   "cell_type": "markdown",
   "id": "f934f789",
   "metadata": {},
   "source": [
    "리스트로 변환"
   ]
  },
  {
   "cell_type": "code",
   "execution_count": 83,
   "id": "cffe891e",
   "metadata": {},
   "outputs": [
    {
     "name": "stdout",
     "output_type": "stream",
     "text": [
      "리스트로 변환:  ['abc', 1, 2, 'def'] ['def', 1, 2, 'abc']\n"
     ]
    }
   ],
   "source": [
    "print(\"리스트로 변환: \",list(tuple_data),list(set_data)) # set만 출력시 위치가 변경!!!"
   ]
  },
  {
   "cell_type": "markdown",
   "id": "fb1d7102",
   "metadata": {},
   "source": [
    "튜플로 변환"
   ]
  },
  {
   "cell_type": "code",
   "execution_count": 84,
   "id": "7566c708",
   "metadata": {},
   "outputs": [
    {
     "name": "stdout",
     "output_type": "stream",
     "text": [
      "튜플로 변환:  ('abc', 1, 2, 'def') ('def', 1, 2, 'abc')\n"
     ]
    }
   ],
   "source": [
    "print(\"튜플로 변환: \",tuple(list_data),tuple(set_data))"
   ]
  },
  {
   "cell_type": "markdown",
   "id": "225a9fcc",
   "metadata": {},
   "source": [
    "세트로 변환"
   ]
  },
  {
   "cell_type": "code",
   "execution_count": 86,
   "id": "52a921ab",
   "metadata": {},
   "outputs": [
    {
     "name": "stdout",
     "output_type": "stream",
     "text": [
      "세트로 변환:  {'def', 1, 2, 'abc'} {'def', 1, 2, 'abc'}\n"
     ]
    }
   ],
   "source": [
    "print(\"세트로 변환: \",set(tuple_data),set(set_data))"
   ]
  },
  {
   "cell_type": "markdown",
   "id": "908fd010",
   "metadata": {},
   "source": [
    "### bool 함수"
   ]
  },
  {
   "cell_type": "markdown",
   "id": "0bda1d37",
   "metadata": {},
   "source": [
    "숫자를 인자로 bool 함수 호출 - 0이면 거짓"
   ]
  },
  {
   "cell_type": "code",
   "execution_count": 93,
   "id": "fa2fe433",
   "metadata": {},
   "outputs": [
    {
     "data": {
      "text/plain": [
       "False"
      ]
     },
     "execution_count": 93,
     "metadata": {},
     "output_type": "execute_result"
    }
   ],
   "source": [
    "bool(0) # 인자: 숫자 0  #0만 거짓!"
   ]
  },
  {
   "cell_type": "code",
   "execution_count": 94,
   "id": "829dab8b",
   "metadata": {},
   "outputs": [
    {
     "data": {
      "text/plain": [
       "True"
      ]
     },
     "execution_count": 94,
     "metadata": {},
     "output_type": "execute_result"
    }
   ],
   "source": [
    "bool(1) # 인자: 숫자1"
   ]
  },
  {
   "cell_type": "code",
   "execution_count": 95,
   "id": "72661665",
   "metadata": {},
   "outputs": [
    {
     "data": {
      "text/plain": [
       "True"
      ]
     },
     "execution_count": 95,
     "metadata": {},
     "output_type": "execute_result"
    }
   ],
   "source": [
    "bool(-10) # 인자: 음의 정수"
   ]
  },
  {
   "cell_type": "code",
   "execution_count": 96,
   "id": "3440be1b",
   "metadata": {},
   "outputs": [
    {
     "data": {
      "text/plain": [
       "True"
      ]
     },
     "execution_count": 96,
     "metadata": {},
     "output_type": "execute_result"
    }
   ],
   "source": [
    "bool(5.12) # 인자: 양의 실수"
   ]
  },
  {
   "cell_type": "code",
   "execution_count": 97,
   "id": "d9361ce6",
   "metadata": {},
   "outputs": [
    {
     "data": {
      "text/plain": [
       "True"
      ]
     },
     "execution_count": 97,
     "metadata": {},
     "output_type": "execute_result"
    }
   ],
   "source": [
    "bool(-3.26) # 인자:음의 실수"
   ]
  },
  {
   "cell_type": "markdown",
   "id": "cb8ff2a2",
   "metadata": {},
   "source": [
    "### 문자열을 인자로 bool 함수 호출 - 공백이면 거짓"
   ]
  },
  {
   "cell_type": "code",
   "execution_count": 98,
   "id": "0ef2281f",
   "metadata": {},
   "outputs": [
    {
     "data": {
      "text/plain": [
       "True"
      ]
     },
     "execution_count": 98,
     "metadata": {},
     "output_type": "execute_result"
    }
   ],
   "source": [
    "bool('a') # 인자: 문자열 'a'"
   ]
  },
  {
   "cell_type": "code",
   "execution_count": 99,
   "id": "2bbfa285",
   "metadata": {},
   "outputs": [
    {
     "data": {
      "text/plain": [
       "True"
      ]
     },
     "execution_count": 99,
     "metadata": {},
     "output_type": "execute_result"
    }
   ],
   "source": [
    "bool(' ') # 인자: 빈 문자열(공백)"
   ]
  },
  {
   "cell_type": "code",
   "execution_count": 100,
   "id": "f9ccb952",
   "metadata": {},
   "outputs": [
    {
     "data": {
      "text/plain": [
       "False"
      ]
     },
     "execution_count": 100,
     "metadata": {},
     "output_type": "execute_result"
    }
   ],
   "source": [
    "bool('') #인자: 문자열 없음"
   ]
  },
  {
   "cell_type": "code",
   "execution_count": 101,
   "id": "dbafcfe1",
   "metadata": {},
   "outputs": [
    {
     "data": {
      "text/plain": [
       "False"
      ]
     },
     "execution_count": 101,
     "metadata": {},
     "output_type": "execute_result"
    }
   ],
   "source": [
    "bool(None) # 인자: None"
   ]
  },
  {
   "cell_type": "markdown",
   "id": "1f2f38fe",
   "metadata": {},
   "source": [
    "### 리스트, 튜플, 세트를 인자로 bool 함수 호출"
   ]
  },
  {
   "cell_type": "code",
   "execution_count": 102,
   "id": "4098343a",
   "metadata": {},
   "outputs": [
    {
     "data": {
      "text/plain": [
       "False"
      ]
     },
     "execution_count": 102,
     "metadata": {},
     "output_type": "execute_result"
    }
   ],
   "source": [
    "myFriends = [] #인자: 항목이 없는 빈 리스트\n",
    "bool(myFriends) "
   ]
  },
  {
   "cell_type": "code",
   "execution_count": 103,
   "id": "0214b133",
   "metadata": {},
   "outputs": [
    {
     "data": {
      "text/plain": [
       "True"
      ]
     },
     "execution_count": 103,
     "metadata": {},
     "output_type": "execute_result"
    }
   ],
   "source": [
    "myFriends = ['James','Robert','Lisa','Mary'] #인자: 항목이 있는 리스트\n",
    "bool(myFriends)"
   ]
  },
  {
   "cell_type": "code",
   "execution_count": 104,
   "id": "7dab2da7",
   "metadata": {},
   "outputs": [
    {
     "data": {
      "text/plain": [
       "False"
      ]
     },
     "execution_count": 104,
     "metadata": {},
     "output_type": "execute_result"
    }
   ],
   "source": [
    "myNum = () #인자: 항목이 없는 빈 튜플\n",
    "bool(myNum)"
   ]
  },
  {
   "cell_type": "code",
   "execution_count": 105,
   "id": "ab0e0433",
   "metadata": {},
   "outputs": [
    {
     "data": {
      "text/plain": [
       "True"
      ]
     },
     "execution_count": 105,
     "metadata": {},
     "output_type": "execute_result"
    }
   ],
   "source": [
    "myNum = (1,2,3) #인자: 항목이 있는 튜플\n",
    "bool(myNum)"
   ]
  },
  {
   "cell_type": "code",
   "execution_count": 106,
   "id": "a6a66b43",
   "metadata": {},
   "outputs": [
    {
     "data": {
      "text/plain": [
       "False"
      ]
     },
     "execution_count": 106,
     "metadata": {},
     "output_type": "execute_result"
    }
   ],
   "source": [
    "mySetA = {} #인자: 항목이 없는 빈 세트\n",
    "bool(mySetA)"
   ]
  },
  {
   "cell_type": "code",
   "execution_count": 108,
   "id": "1f0c0163",
   "metadata": {},
   "outputs": [
    {
     "data": {
      "text/plain": [
       "True"
      ]
     },
     "execution_count": 108,
     "metadata": {},
     "output_type": "execute_result"
    }
   ],
   "source": [
    "mySetA = {10,20,30} #인자: 항목이 있는 세트\n",
    "bool(mySetA)"
   ]
  },
  {
   "cell_type": "markdown",
   "id": "5e17a23f",
   "metadata": {},
   "source": [
    "### bool 함수의 활용"
   ]
  },
  {
   "cell_type": "code",
   "execution_count": 109,
   "id": "f6800475",
   "metadata": {},
   "outputs": [],
   "source": [
    "def print_name(name):\n",
    "    if bool(name):\n",
    "        print(\"입력된 이름: \",name)\n",
    "    else: \n",
    "        print(\"입력된 이름이 없습니다.\")"
   ]
  },
  {
   "cell_type": "code",
   "execution_count": 110,
   "id": "d47cc78e",
   "metadata": {},
   "outputs": [
    {
     "name": "stdout",
     "output_type": "stream",
     "text": [
      "입력된 이름:  James\n"
     ]
    }
   ],
   "source": [
    "print_name(\"James\")"
   ]
  },
  {
   "cell_type": "code",
   "execution_count": 111,
   "id": "bba68786",
   "metadata": {},
   "outputs": [
    {
     "name": "stdout",
     "output_type": "stream",
     "text": [
      "입력된 이름이 없습니다.\n"
     ]
    }
   ],
   "source": [
    "print_name(\"\")"
   ]
  },
  {
   "cell_type": "code",
   "execution_count": 112,
   "id": "3b77bb28",
   "metadata": {},
   "outputs": [],
   "source": [
    "def print_Number(number):\n",
    "    if bool(number):\n",
    "        print(\"입력된 회원번호: \",number)\n",
    "    else: \n",
    "        print(\"입력된 회원번호가 없습니다.\")"
   ]
  },
  {
   "cell_type": "code",
   "execution_count": 114,
   "id": "ae4aa13b",
   "metadata": {},
   "outputs": [
    {
     "name": "stdout",
     "output_type": "stream",
     "text": [
      "입력된 회원번호:  0001\n"
     ]
    }
   ],
   "source": [
    "print_Number(\"0001\")"
   ]
  },
  {
   "cell_type": "markdown",
   "id": "3b985840",
   "metadata": {},
   "source": [
    "## 최솟값과 최댓값을 구하는 함수"
   ]
  },
  {
   "cell_type": "code",
   "execution_count": 116,
   "id": "d201450c",
   "metadata": {},
   "outputs": [
    {
     "data": {
      "text/plain": [
       "[0, 99.5]"
      ]
     },
     "execution_count": 116,
     "metadata": {},
     "output_type": "execute_result"
    }
   ],
   "source": [
    "myNum = [10,5,12,0,3.5,99.5,42] # 숫자의 최솟값과 최댓값\n",
    "[min(myNum), max(myNum)]"
   ]
  },
  {
   "cell_type": "code",
   "execution_count": 117,
   "id": "46345700",
   "metadata": {},
   "outputs": [
    {
     "data": {
      "text/plain": [
       "['a', 'z']"
      ]
     },
     "execution_count": 117,
     "metadata": {},
     "output_type": "execute_result"
    }
   ],
   "source": [
    "myStr = 'zxyabc'  # 문자의 최솟값과 최댓값 - 순서대로\n",
    "[min(myStr), max(myStr)]"
   ]
  },
  {
   "cell_type": "markdown",
   "id": "c3a7304b",
   "metadata": {},
   "source": [
    "튜플과 세트에서 활용"
   ]
  },
  {
   "cell_type": "code",
   "execution_count": 118,
   "id": "dc917f80",
   "metadata": {},
   "outputs": [
    {
     "data": {
      "text/plain": [
       "[0, 99.5]"
      ]
     },
     "execution_count": 118,
     "metadata": {},
     "output_type": "execute_result"
    }
   ],
   "source": [
    "myNum = (10,5,12,0,3.5,99.5,42)\n",
    "[min(myNum), max(myNum)]"
   ]
  },
  {
   "cell_type": "code",
   "execution_count": 121,
   "id": "b9f375fd",
   "metadata": {},
   "outputs": [
    {
     "data": {
      "text/plain": [
       "['Abc', 'efg']"
      ]
     },
     "execution_count": 121,
     "metadata": {},
     "output_type": "execute_result"
    }
   ],
   "source": [
    "myNum = {\"Abc\",'abc','bcd','efg'} # 대문자가 조금 더 작다\n",
    "[min(myNum), max(myNum)]"
   ]
  },
  {
   "cell_type": "markdown",
   "id": "b118f661",
   "metadata": {},
   "source": [
    "## 절댓값과 전체 합을 구하는 함수"
   ]
  },
  {
   "cell_type": "code",
   "execution_count": 122,
   "id": "50c272fc",
   "metadata": {},
   "outputs": [
    {
     "data": {
      "text/plain": [
       "[10, 10]"
      ]
     },
     "execution_count": 122,
     "metadata": {},
     "output_type": "execute_result"
    }
   ],
   "source": [
    "[abs(10), abs(-10)]"
   ]
  },
  {
   "cell_type": "code",
   "execution_count": 123,
   "id": "6bbc8497",
   "metadata": {},
   "outputs": [
    {
     "data": {
      "text/plain": [
       "[2.45, 2.45]"
      ]
     },
     "execution_count": 123,
     "metadata": {},
     "output_type": "execute_result"
    }
   ],
   "source": [
    "[abs(2.45), abs(-2.45)]"
   ]
  },
  {
   "cell_type": "code",
   "execution_count": 127,
   "id": "6a17a94f",
   "metadata": {},
   "outputs": [
    {
     "data": {
      "text/plain": [
       "55"
      ]
     },
     "execution_count": 127,
     "metadata": {},
     "output_type": "execute_result"
    }
   ],
   "source": [
    "sumList = [1,2,3,4,5,6,7,8,9,10] #리스트 안에 값을 모두 합치는 함수\n",
    "sum(sumList)"
   ]
  },
  {
   "cell_type": "code",
   "execution_count": 128,
   "id": "1dc75b3b",
   "metadata": {},
   "outputs": [
    {
     "data": {
      "text/plain": [
       "30"
      ]
     },
     "execution_count": 128,
     "metadata": {},
     "output_type": "execute_result"
    }
   ],
   "source": [
    "sumList = [2,4,6,8,10] #리스트 안에 값을 모두 합치는 함수\n",
    "sum(sumList)"
   ]
  },
  {
   "cell_type": "code",
   "execution_count": 129,
   "id": "73e26e01",
   "metadata": {},
   "outputs": [
    {
     "data": {
      "text/plain": [
       "25"
      ]
     },
     "execution_count": 129,
     "metadata": {},
     "output_type": "execute_result"
    }
   ],
   "source": [
    "sumList = [1,3,5,7,9] #리스트 안에 값을 모두 합치는 함수\n",
    "sum(sumList)"
   ]
  },
  {
   "cell_type": "markdown",
   "id": "f442e39d",
   "metadata": {},
   "source": [
    "### 항목의 개수를 구하는 함수"
   ]
  },
  {
   "cell_type": "code",
   "execution_count": 130,
   "id": "b07dffd5",
   "metadata": {},
   "outputs": [
    {
     "data": {
      "text/plain": [
       "5"
      ]
     },
     "execution_count": 130,
     "metadata": {},
     "output_type": "execute_result"
    }
   ],
   "source": [
    "len(\"ab cd\") #문자열"
   ]
  },
  {
   "cell_type": "code",
   "execution_count": 132,
   "id": "a8915471",
   "metadata": {},
   "outputs": [
    {
     "data": {
      "text/plain": [
       "8"
      ]
     },
     "execution_count": 132,
     "metadata": {},
     "output_type": "execute_result"
    }
   ],
   "source": [
    "len([1,2,3,4,5,6,7,8]) # 리스트"
   ]
  },
  {
   "cell_type": "code",
   "execution_count": 133,
   "id": "1cd9919c",
   "metadata": {},
   "outputs": [
    {
     "data": {
      "text/plain": [
       "5"
      ]
     },
     "execution_count": 133,
     "metadata": {},
     "output_type": "execute_result"
    }
   ],
   "source": [
    "len((1,2,3,4,5)) #튜플"
   ]
  },
  {
   "cell_type": "code",
   "execution_count": 134,
   "id": "8597017b",
   "metadata": {},
   "outputs": [
    {
     "data": {
      "text/plain": [
       "4"
      ]
     },
     "execution_count": 134,
     "metadata": {},
     "output_type": "execute_result"
    }
   ],
   "source": [
    "len({'a','b','c','d'}) # 세트"
   ]
  },
  {
   "cell_type": "code",
   "execution_count": 135,
   "id": "22771632",
   "metadata": {},
   "outputs": [
    {
     "data": {
      "text/plain": [
       "3"
      ]
     },
     "execution_count": 135,
     "metadata": {},
     "output_type": "execute_result"
    }
   ],
   "source": [
    "len({1:\"Tomas\",2:\"Lisa\",3:\"Jaji\"}) #딕셔너리"
   ]
  },
  {
   "cell_type": "markdown",
   "id": "d5642a16",
   "metadata": {},
   "source": [
    "## 내장함수의 활용"
   ]
  },
  {
   "cell_type": "code",
   "execution_count": 140,
   "id": "03e43191",
   "metadata": {},
   "outputs": [
    {
     "name": "stdout",
     "output_type": "stream",
     "text": [
      "총점: 350, 평균: 87.5\n"
     ]
    }
   ],
   "source": [
    "scores = [90,80,95,85] # 과목별 시험 접수\n",
    "\n",
    "score_sum = 0                            # 총점 계산을 위한 초기값 설정\n",
    "subject_num = 0                          # 과목수 계산을 위한 초기값 설정\n",
    "for score in scores:                     \n",
    "    score_sum = score_sum + score          # 과목별 점수 모두 더하기\n",
    "    subject_num = subject_num+1            # 과목수 계산\n",
    "average = score_sum / subject_num           #평균(총점/과목수) 구하기\n",
    "    \n",
    "print(\"총점: {0}, 평균: {1}\".format(score_sum, average)) "
   ]
  },
  {
   "cell_type": "markdown",
   "id": "9ae19f4a",
   "metadata": {},
   "source": [
    "사용했을 경우"
   ]
  },
  {
   "cell_type": "code",
   "execution_count": 141,
   "id": "c106a342",
   "metadata": {},
   "outputs": [
    {
     "name": "stdout",
     "output_type": "stream",
     "text": [
      "총점:350, 평균87.5\n"
     ]
    }
   ],
   "source": [
    "scores = [90,80,95,85]\n",
    "print(\"총점:{0}, 평균{1}\".format(sum(scores),sum(scores)/len(scores)))"
   ]
  },
  {
   "cell_type": "code",
   "execution_count": 143,
   "id": "2e546fe4",
   "metadata": {},
   "outputs": [
    {
     "name": "stdout",
     "output_type": "stream",
     "text": [
      "최하 점수:80 최고 점수:95\n"
     ]
    }
   ],
   "source": [
    "print(\"최하 점수:{0} 최고 점수:{1}\".format(min(scores),max(scores)))"
   ]
  },
  {
   "cell_type": "markdown",
   "id": "309c4f6d",
   "metadata": {},
   "source": [
    "## 7.5 정리"
   ]
  }
 ],
 "metadata": {
  "kernelspec": {
   "display_name": "Python 3 (ipykernel)",
   "language": "python",
   "name": "python3"
  },
  "language_info": {
   "codemirror_mode": {
    "name": "ipython",
    "version": 3
   },
   "file_extension": ".py",
   "mimetype": "text/x-python",
   "name": "python",
   "nbconvert_exporter": "python",
   "pygments_lexer": "ipython3",
   "version": "3.9.13"
  }
 },
 "nbformat": 4,
 "nbformat_minor": 5
}
